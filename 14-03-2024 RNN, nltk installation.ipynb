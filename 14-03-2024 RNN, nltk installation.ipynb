{
 "cells": [
  {
   "cell_type": "code",
   "execution_count": 1,
   "id": "311d7187",
   "metadata": {},
   "outputs": [],
   "source": [
    "import keras\n",
    "from keras.preprocessing.text import Tokenizer"
   ]
  },
  {
   "cell_type": "code",
   "execution_count": 23,
   "id": "2a1da3ef",
   "metadata": {},
   "outputs": [],
   "source": [
    "import pandas as pd"
   ]
  },
  {
   "cell_type": "code",
   "execution_count": 12,
   "id": "cfbed2cc",
   "metadata": {},
   "outputs": [],
   "source": [
    "l = [\"I am playing\",\"I have played\",\"I am joining the academy to learn\"]"
   ]
  },
  {
   "cell_type": "code",
   "execution_count": null,
   "id": "b7c9c25b",
   "metadata": {},
   "outputs": [],
   "source": []
  },
  {
   "cell_type": "code",
   "execution_count": 5,
   "id": "0ad7bf11",
   "metadata": {},
   "outputs": [
    {
     "name": "stdout",
     "output_type": "stream",
     "text": [
      "Requirement already satisfied: nltk in c:\\users\\eijaz\\anaconda3\\lib\\site-packages (3.8.1)\n",
      "Requirement already satisfied: click in c:\\users\\eijaz\\anaconda3\\lib\\site-packages (from nltk) (8.0.4)\n",
      "Requirement already satisfied: joblib in c:\\users\\eijaz\\anaconda3\\lib\\site-packages (from nltk) (1.1.1)\n",
      "Requirement already satisfied: regex>=2021.8.3 in c:\\users\\eijaz\\anaconda3\\lib\\site-packages (from nltk) (2022.7.9)\n",
      "Requirement already satisfied: tqdm in c:\\users\\eijaz\\anaconda3\\lib\\site-packages (from nltk) (4.65.0)\n",
      "Requirement already satisfied: colorama in c:\\users\\eijaz\\anaconda3\\lib\\site-packages (from click->nltk) (0.4.6)\n"
     ]
    }
   ],
   "source": [
    "!pip install nltk"
   ]
  },
  {
   "cell_type": "code",
   "execution_count": 3,
   "id": "04d0ee0d",
   "metadata": {},
   "outputs": [],
   "source": [
    "import nltk"
   ]
  },
  {
   "cell_type": "code",
   "execution_count": 4,
   "id": "55e4f171",
   "metadata": {},
   "outputs": [],
   "source": [
    "from nltk.stem import PorterStemmer"
   ]
  },
  {
   "cell_type": "code",
   "execution_count": 6,
   "id": "fbbfe35e",
   "metadata": {},
   "outputs": [],
   "source": [
    "stemmer = PorterStemmer()"
   ]
  },
  {
   "cell_type": "code",
   "execution_count": 18,
   "id": "c6e0aeb0",
   "metadata": {},
   "outputs": [],
   "source": [
    "def Stem_Text(text):\n",
    "    words = nltk.word_tokenize(text)\n",
    "    stemmed_words = [stemmer.stem(word) for word in words]\n",
    "    return\" \".join(stemmed_words)"
   ]
  },
  {
   "cell_type": "code",
   "execution_count": 19,
   "id": "d99266a6",
   "metadata": {},
   "outputs": [
    {
     "data": {
      "text/plain": [
       "'i am play'"
      ]
     },
     "execution_count": 19,
     "metadata": {},
     "output_type": "execute_result"
    }
   ],
   "source": [
    "Stem_Text(l[0])"
   ]
  },
  {
   "cell_type": "code",
   "execution_count": 20,
   "id": "1661eac4",
   "metadata": {},
   "outputs": [],
   "source": [
    "# punkt dictionary is used by nltk to refer and stem words "
   ]
  },
  {
   "cell_type": "code",
   "execution_count": 10,
   "id": "54a45473",
   "metadata": {},
   "outputs": [
    {
     "name": "stderr",
     "output_type": "stream",
     "text": [
      "[nltk_data] Downloading package punkt to\n",
      "[nltk_data]     C:\\Users\\eijaz\\AppData\\Roaming\\nltk_data...\n",
      "[nltk_data]   Unzipping tokenizers\\punkt.zip.\n"
     ]
    },
    {
     "data": {
      "text/plain": [
       "True"
      ]
     },
     "execution_count": 10,
     "metadata": {},
     "output_type": "execute_result"
    }
   ],
   "source": [
    "nltk.download(\"punkt\")"
   ]
  },
  {
   "cell_type": "code",
   "execution_count": 21,
   "id": "144308aa",
   "metadata": {},
   "outputs": [
    {
     "data": {
      "text/plain": [
       "'i am join the academi to learn'"
      ]
     },
     "execution_count": 21,
     "metadata": {},
     "output_type": "execute_result"
    }
   ],
   "source": [
    "Stem_Text(l[2])"
   ]
  },
  {
   "cell_type": "code",
   "execution_count": 26,
   "id": "996a3edb",
   "metadata": {},
   "outputs": [],
   "source": [
    "l = pd.Series([\"I am playing\",\"I have played\"])"
   ]
  },
  {
   "cell_type": "code",
   "execution_count": null,
   "id": "1edc3ebc",
   "metadata": {},
   "outputs": [],
   "source": []
  },
  {
   "cell_type": "code",
   "execution_count": 27,
   "id": "f2acf341",
   "metadata": {},
   "outputs": [],
   "source": [
    "def Stem_Text(text):\n",
    "    words = nltk.word_tokenize(text)\n",
    "    stemmed_words = [stemmer.stem(word) for word in words]\n",
    "    return\" \".join(stemmed_words)"
   ]
  },
  {
   "cell_type": "code",
   "execution_count": 28,
   "id": "8f031ff6",
   "metadata": {},
   "outputs": [],
   "source": [
    "stemed_data = l.apply(Stem_Text)"
   ]
  },
  {
   "cell_type": "code",
   "execution_count": 29,
   "id": "d315621a",
   "metadata": {},
   "outputs": [
    {
     "data": {
      "text/plain": [
       "0      i am play\n",
       "1    i have play\n",
       "dtype: object"
      ]
     },
     "execution_count": 29,
     "metadata": {},
     "output_type": "execute_result"
    }
   ],
   "source": [
    "stemed_data"
   ]
  },
  {
   "cell_type": "code",
   "execution_count": 30,
   "id": "c9aa372e",
   "metadata": {},
   "outputs": [],
   "source": [
    "# Tokenization\n",
    "from keras.preprocessing.text import Tokenizer"
   ]
  },
  {
   "cell_type": "code",
   "execution_count": 31,
   "id": "2e9bbc93",
   "metadata": {},
   "outputs": [],
   "source": [
    "# Num_words = helps you extract no of words from the text\n",
    "tokenize = Tokenizer(num_words=100)"
   ]
  },
  {
   "cell_type": "code",
   "execution_count": 32,
   "id": "b7644879",
   "metadata": {},
   "outputs": [],
   "source": [
    "tokenize.fit_on_texts(stemed_data)"
   ]
  },
  {
   "cell_type": "code",
   "execution_count": 33,
   "id": "4b92b718",
   "metadata": {},
   "outputs": [
    {
     "data": {
      "text/plain": [
       "{'i': 1, 'play': 2, 'am': 3, 'have': 4}"
      ]
     },
     "execution_count": 33,
     "metadata": {},
     "output_type": "execute_result"
    }
   ],
   "source": [
    "tokenize.word_index"
   ]
  },
  {
   "cell_type": "code",
   "execution_count": null,
   "id": "112d3834",
   "metadata": {},
   "outputs": [],
   "source": []
  }
 ],
 "metadata": {
  "kernelspec": {
   "display_name": "Python 3 (ipykernel)",
   "language": "python",
   "name": "python3"
  },
  "language_info": {
   "codemirror_mode": {
    "name": "ipython",
    "version": 3
   },
   "file_extension": ".py",
   "mimetype": "text/x-python",
   "name": "python",
   "nbconvert_exporter": "python",
   "pygments_lexer": "ipython3",
   "version": "3.11.5"
  }
 },
 "nbformat": 4,
 "nbformat_minor": 5
}
