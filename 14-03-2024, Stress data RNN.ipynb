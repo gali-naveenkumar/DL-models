{
 "cells": [
  {
   "cell_type": "code",
   "execution_count": 2,
   "id": "acddeb3e",
   "metadata": {},
   "outputs": [],
   "source": [
    "import pandas as pd\n",
    "import keras\n",
    "import nltk"
   ]
  },
  {
   "cell_type": "code",
   "execution_count": 8,
   "id": "9858d379",
   "metadata": {},
   "outputs": [],
   "source": [
    "import re"
   ]
  },
  {
   "cell_type": "code",
   "execution_count": 9,
   "id": "97a0804e",
   "metadata": {},
   "outputs": [
    {
     "data": {
      "text/html": [
       "<div>\n",
       "<style scoped>\n",
       "    .dataframe tbody tr th:only-of-type {\n",
       "        vertical-align: middle;\n",
       "    }\n",
       "\n",
       "    .dataframe tbody tr th {\n",
       "        vertical-align: top;\n",
       "    }\n",
       "\n",
       "    .dataframe thead th {\n",
       "        text-align: right;\n",
       "    }\n",
       "</style>\n",
       "<table border=\"1\" class=\"dataframe\">\n",
       "  <thead>\n",
       "    <tr style=\"text-align: right;\">\n",
       "      <th></th>\n",
       "      <th>Posts</th>\n",
       "      <th>Labels</th>\n",
       "    </tr>\n",
       "  </thead>\n",
       "  <tbody>\n",
       "    <tr>\n",
       "      <th>0</th>\n",
       "      <td>I quit my job of 3 years due to my stress and ...</td>\n",
       "      <td>Work Stress</td>\n",
       "    </tr>\n",
       "    <tr>\n",
       "      <th>1</th>\n",
       "      <td>I hate my Job and have a sick note due to stre...</td>\n",
       "      <td>Work Stress</td>\n",
       "    </tr>\n",
       "    <tr>\n",
       "      <th>2</th>\n",
       "      <td>For those who resigned this (recession) year d...</td>\n",
       "      <td>Work Stress</td>\n",
       "    </tr>\n",
       "    <tr>\n",
       "      <th>3</th>\n",
       "      <td>Anyone always sort of stressed due to this job...</td>\n",
       "      <td>Work Stress</td>\n",
       "    </tr>\n",
       "    <tr>\n",
       "      <th>4</th>\n",
       "      <td>Wife has been unemployed for 3 months after sh...</td>\n",
       "      <td>Work Stress</td>\n",
       "    </tr>\n",
       "    <tr>\n",
       "      <th>...</th>\n",
       "      <td>...</td>\n",
       "      <td>...</td>\n",
       "    </tr>\n",
       "    <tr>\n",
       "      <th>1817</th>\n",
       "      <td>Bullard Discusses Financial Stress, Rate Incre...</td>\n",
       "      <td>Financial Stress</td>\n",
       "    </tr>\n",
       "    <tr>\n",
       "      <th>1818</th>\n",
       "      <td>USA Financial Stress v. Equities</td>\n",
       "      <td>Financial Stress</td>\n",
       "    </tr>\n",
       "    <tr>\n",
       "      <th>1819</th>\n",
       "      <td>Why short term financial stresses could actual...</td>\n",
       "      <td>Financial Stress</td>\n",
       "    </tr>\n",
       "    <tr>\n",
       "      <th>1820</th>\n",
       "      <td>Please help! UK undergraduate students needed ...</td>\n",
       "      <td>Financial Stress</td>\n",
       "    </tr>\n",
       "    <tr>\n",
       "      <th>1821</th>\n",
       "      <td>Danielle DiMartino Booth, CEO of Quill Intelli...</td>\n",
       "      <td>Financial Stress</td>\n",
       "    </tr>\n",
       "  </tbody>\n",
       "</table>\n",
       "<p>1822 rows × 2 columns</p>\n",
       "</div>"
      ],
      "text/plain": [
       "                                                  Posts            Labels\n",
       "0     I quit my job of 3 years due to my stress and ...       Work Stress\n",
       "1     I hate my Job and have a sick note due to stre...       Work Stress\n",
       "2     For those who resigned this (recession) year d...       Work Stress\n",
       "3     Anyone always sort of stressed due to this job...       Work Stress\n",
       "4     Wife has been unemployed for 3 months after sh...       Work Stress\n",
       "...                                                 ...               ...\n",
       "1817  Bullard Discusses Financial Stress, Rate Incre...  Financial Stress\n",
       "1818                  USA Financial Stress v. Equities   Financial Stress\n",
       "1819  Why short term financial stresses could actual...  Financial Stress\n",
       "1820  Please help! UK undergraduate students needed ...  Financial Stress\n",
       "1821  Danielle DiMartino Booth, CEO of Quill Intelli...  Financial Stress\n",
       "\n",
       "[1822 rows x 2 columns]"
      ]
     },
     "execution_count": 9,
     "metadata": {},
     "output_type": "execute_result"
    }
   ],
   "source": [
    "data = pd.read_excel(r\"C:\\Users\\eijaz\\OneDrive\\Desktop\\stress_data.xlsx\")\n",
    "data"
   ]
  },
  {
   "cell_type": "code",
   "execution_count": 7,
   "id": "b53cbbd9",
   "metadata": {},
   "outputs": [],
   "source": [
    "X = data [\"Posts\"].astype(str)"
   ]
  },
  {
   "cell_type": "code",
   "execution_count": 11,
   "id": "a8e44491",
   "metadata": {},
   "outputs": [],
   "source": [
    "def preprocess(text):\n",
    "    \n",
    "    #lowercasing\n",
    "    lower_text = text.lower()\n",
    "    lower_text = re.sub(r\"\\W\",\" \",lower_text)\n",
    "    lower_text = re.sub(r\"\\s+\",\" \",lower_text)\n",
    "    return lower_text"
   ]
  },
  {
   "cell_type": "code",
   "execution_count": 12,
   "id": "dd20526f",
   "metadata": {},
   "outputs": [],
   "source": [
    "X_clean = X.apply(preprocess)"
   ]
  },
  {
   "cell_type": "code",
   "execution_count": 13,
   "id": "6162f8e8",
   "metadata": {
    "collapsed": true
   },
   "outputs": [
    {
     "data": {
      "text/plain": [
       "0       i quit my job of 3 years due to my stress and ...\n",
       "1       i hate my job and have a sick note due to stre...\n",
       "2       for those who resigned this recession year due...\n",
       "3       anyone always sort of stressed due to this job...\n",
       "4       wife has been unemployed for 3 months after sh...\n",
       "                              ...                        \n",
       "1817    bullard discusses financial stress rate increa...\n",
       "1818                     usa financial stress v equities \n",
       "1819    why short term financial stresses could actual...\n",
       "1820    please help uk undergraduate students needed f...\n",
       "1821    danielle dimartino booth ceo of quill intellig...\n",
       "Name: Posts, Length: 1822, dtype: object"
      ]
     },
     "execution_count": 13,
     "metadata": {},
     "output_type": "execute_result"
    }
   ],
   "source": [
    "X_clean"
   ]
  },
  {
   "cell_type": "code",
   "execution_count": 14,
   "id": "297149a2",
   "metadata": {},
   "outputs": [
    {
     "data": {
      "text/plain": [
       "'usa financial stress v equities '"
      ]
     },
     "execution_count": 14,
     "metadata": {},
     "output_type": "execute_result"
    }
   ],
   "source": [
    "X_clean.loc[1818]"
   ]
  },
  {
   "cell_type": "code",
   "execution_count": 15,
   "id": "09d803a9",
   "metadata": {},
   "outputs": [],
   "source": [
    "from nltk.stem import PorterStemmer"
   ]
  },
  {
   "cell_type": "code",
   "execution_count": 16,
   "id": "4f04419a",
   "metadata": {},
   "outputs": [],
   "source": [
    "stemmer = PorterStemmer()"
   ]
  },
  {
   "cell_type": "code",
   "execution_count": 17,
   "id": "5541bccf",
   "metadata": {},
   "outputs": [],
   "source": [
    "def Stem_Text(text):\n",
    "    words = nltk.word_tokenize(text)\n",
    "    stemmed_words = [stemmer.stem(word) for word in words]\n",
    "    return\" \".join(stemmed_words)"
   ]
  },
  {
   "cell_type": "code",
   "execution_count": 18,
   "id": "d0fbb829",
   "metadata": {},
   "outputs": [],
   "source": [
    "X_clean_Stem = X_clean.apply(Stem_Text)"
   ]
  },
  {
   "cell_type": "code",
   "execution_count": 20,
   "id": "86525a77",
   "metadata": {
    "collapsed": true
   },
   "outputs": [
    {
     "data": {
      "text/plain": [
       "0       i quit my job of 3 year due to my stress and d...\n",
       "1       i hate my job and have a sick note due to stre...\n",
       "2       for those who resign thi recess year due to st...\n",
       "3       anyon alway sort of stress due to thi job i st...\n",
       "4       wife ha been unemploy for 3 month after she qu...\n",
       "                              ...                        \n",
       "1817    bullard discuss financi stress rate increas an...\n",
       "1818                          usa financi stress v equiti\n",
       "1819    whi short term financi stress could actual de ...\n",
       "1820    pleas help uk undergradu student need for a di...\n",
       "1821    daniel dimartino booth ceo of quill intellig a...\n",
       "Name: Posts, Length: 1822, dtype: object"
      ]
     },
     "execution_count": 20,
     "metadata": {},
     "output_type": "execute_result"
    }
   ],
   "source": [
    "X_clean_Stem"
   ]
  },
  {
   "cell_type": "code",
   "execution_count": 19,
   "id": "d06aea58",
   "metadata": {},
   "outputs": [],
   "source": [
    "from keras.preprocessing.text import Tokenizer"
   ]
  },
  {
   "cell_type": "code",
   "execution_count": 21,
   "id": "e2caf1a7",
   "metadata": {},
   "outputs": [],
   "source": [
    "# Any number we can take basis the data \n",
    "tokenize = Tokenizer(num_words=20000)\n"
   ]
  },
  {
   "cell_type": "code",
   "execution_count": 22,
   "id": "f74a5882",
   "metadata": {},
   "outputs": [],
   "source": [
    "tokenize.fit_on_texts(X_clean_Stem)"
   ]
  },
  {
   "cell_type": "code",
   "execution_count": 23,
   "id": "23cd5bb6",
   "metadata": {},
   "outputs": [],
   "source": [
    "data_sequences = tokenize.texts_to_sequences(X_clean_Stem)"
   ]
  },
  {
   "cell_type": "code",
   "execution_count": 24,
   "id": "56fcbde9",
   "metadata": {
    "collapsed": true
   },
   "outputs": [
    {
     "data": {
      "text/plain": [
       "[1,\n",
       " 229,\n",
       " 6,\n",
       " 57,\n",
       " 7,\n",
       " 149,\n",
       " 63,\n",
       " 75,\n",
       " 2,\n",
       " 6,\n",
       " 16,\n",
       " 3,\n",
       " 282,\n",
       " 1,\n",
       " 229,\n",
       " 6,\n",
       " 150,\n",
       " 57,\n",
       " 11,\n",
       " 33,\n",
       " 64,\n",
       " 62,\n",
       " 128,\n",
       " 1032,\n",
       " 1,\n",
       " 31,\n",
       " 39,\n",
       " 5,\n",
       " 1033,\n",
       " 3,\n",
       " 39,\n",
       " 33,\n",
       " 24,\n",
       " 218,\n",
       " 127,\n",
       " 3,\n",
       " 6,\n",
       " 961,\n",
       " 168,\n",
       " 1,\n",
       " 271,\n",
       " 106,\n",
       " 123,\n",
       " 6,\n",
       " 1139,\n",
       " 591,\n",
       " 75,\n",
       " 2,\n",
       " 4,\n",
       " 622,\n",
       " 529,\n",
       " 3,\n",
       " 7,\n",
       " 547,\n",
       " 11,\n",
       " 138,\n",
       " 18,\n",
       " 73,\n",
       " 622,\n",
       " 529,\n",
       " 1163,\n",
       " 1901,\n",
       " 282,\n",
       " 1163,\n",
       " 44,\n",
       " 7,\n",
       " 19,\n",
       " 12,\n",
       " 192,\n",
       " 15,\n",
       " 130,\n",
       " 5,\n",
       " 349,\n",
       " 1901,\n",
       " 282,\n",
       " 1,\n",
       " 329,\n",
       " 11,\n",
       " 33,\n",
       " 24,\n",
       " 850,\n",
       " 7,\n",
       " 55,\n",
       " 6,\n",
       " 563,\n",
       " 12,\n",
       " 30,\n",
       " 1,\n",
       " 329,\n",
       " 31,\n",
       " 39,\n",
       " 19,\n",
       " 33,\n",
       " 24,\n",
       " 734,\n",
       " 131,\n",
       " 21,\n",
       " 230,\n",
       " 2,\n",
       " 1366,\n",
       " 4,\n",
       " 231,\n",
       " 200,\n",
       " 1034,\n",
       " 1,\n",
       " 31,\n",
       " 39,\n",
       " 33,\n",
       " 24,\n",
       " 5,\n",
       " 1287,\n",
       " 2,\n",
       " 521,\n",
       " 85,\n",
       " 257,\n",
       " 26,\n",
       " 153,\n",
       " 15,\n",
       " 2,\n",
       " 229,\n",
       " 48,\n",
       " 1,\n",
       " 6333,\n",
       " 33,\n",
       " 24,\n",
       " 38,\n",
       " 2,\n",
       " 13,\n",
       " 82,\n",
       " 481,\n",
       " 3,\n",
       " 26,\n",
       " 54,\n",
       " 2,\n",
       " 89,\n",
       " 117,\n",
       " 5,\n",
       " 122,\n",
       " 7,\n",
       " 4,\n",
       " 453,\n",
       " 33,\n",
       " 24,\n",
       " 32,\n",
       " 465,\n",
       " 465,\n",
       " 7,\n",
       " 326,\n",
       " 1034,\n",
       " 465,\n",
       " 7,\n",
       " 31,\n",
       " 2569,\n",
       " 465,\n",
       " 7,\n",
       " 27,\n",
       " 13,\n",
       " 68,\n",
       " 2257,\n",
       " 85,\n",
       " 257,\n",
       " 6,\n",
       " 1411,\n",
       " 12,\n",
       " 406,\n",
       " 50,\n",
       " 27,\n",
       " 301,\n",
       " 1,\n",
       " 32,\n",
       " 58,\n",
       " 2,\n",
       " 31,\n",
       " 219,\n",
       " 6,\n",
       " 137,\n",
       " 71,\n",
       " 12,\n",
       " 8,\n",
       " 509,\n",
       " 71,\n",
       " 1,\n",
       " 32,\n",
       " 83,\n",
       " 2,\n",
       " 34,\n",
       " 195,\n",
       " 4,\n",
       " 253,\n",
       " 99,\n",
       " 3,\n",
       " 120,\n",
       " 1,\n",
       " 31,\n",
       " 6,\n",
       " 273,\n",
       " 45,\n",
       " 579,\n",
       " 3,\n",
       " 1,\n",
       " 45,\n",
       " 338,\n",
       " 4,\n",
       " 49,\n",
       " 123,\n",
       " 437,\n",
       " 57,\n",
       " 164,\n",
       " 127,\n",
       " 171,\n",
       " 1,\n",
       " 32,\n",
       " 83,\n",
       " 97,\n",
       " 286,\n",
       " 2,\n",
       " 780,\n",
       " 1,\n",
       " 13,\n",
       " 82,\n",
       " 79,\n",
       " 418,\n",
       " 2,\n",
       " 163,\n",
       " 2,\n",
       " 3,\n",
       " 1,\n",
       " 118,\n",
       " 14,\n",
       " 58,\n",
       " 2,\n",
       " 1287,\n",
       " 6,\n",
       " 385,\n",
       " 86,\n",
       " 748,\n",
       " 1,\n",
       " 118,\n",
       " 14,\n",
       " 60,\n",
       " 61,\n",
       " 2,\n",
       " 530,\n",
       " 127]"
      ]
     },
     "execution_count": 24,
     "metadata": {},
     "output_type": "execute_result"
    }
   ],
   "source": [
    "data_sequences[0]"
   ]
  },
  {
   "cell_type": "code",
   "execution_count": 25,
   "id": "67fb1d3d",
   "metadata": {},
   "outputs": [
    {
     "data": {
      "text/plain": [
       "244"
      ]
     },
     "execution_count": 25,
     "metadata": {},
     "output_type": "execute_result"
    }
   ],
   "source": [
    "# Length of first review \n",
    "len(data_sequences[0])"
   ]
  },
  {
   "cell_type": "code",
   "execution_count": 26,
   "id": "2d7f0f44",
   "metadata": {},
   "outputs": [
    {
     "data": {
      "text/plain": [
       "333"
      ]
     },
     "execution_count": 26,
     "metadata": {},
     "output_type": "execute_result"
    }
   ],
   "source": [
    "len(data_sequences[1])"
   ]
  },
  {
   "cell_type": "code",
   "execution_count": 27,
   "id": "17ea3b72",
   "metadata": {},
   "outputs": [],
   "source": [
    "# we need to pad the data, and check highest length of post. SInce it is gonna take more time to train we will take it as 300 \n",
    "\n",
    "# padding the sequence \n",
    "from keras.preprocessing.sequence import pad_sequences"
   ]
  },
  {
   "cell_type": "code",
   "execution_count": 28,
   "id": "53d9d5af",
   "metadata": {},
   "outputs": [],
   "source": [
    "# By default its set to pre we need to set it as post for spaces to be added \n",
    "# padding is to add\n",
    "# truncating is to drop \n",
    "padded_sequences = pad_sequences(data_sequences,maxlen=300,padding=\"post\",truncating=\"post\")"
   ]
  },
  {
   "cell_type": "code",
   "execution_count": 30,
   "id": "2bc3aed0",
   "metadata": {
    "collapsed": true
   },
   "outputs": [
    {
     "data": {
      "text/plain": [
       "array([   1,  229,    6,   57,    7,  149,   63,   75,    2,    6,   16,\n",
       "          3,  282,    1,  229,    6,  150,   57,   11,   33,   64,   62,\n",
       "        128, 1032,    1,   31,   39,    5, 1033,    3,   39,   33,   24,\n",
       "        218,  127,    3,    6,  961,  168,    1,  271,  106,  123,    6,\n",
       "       1139,  591,   75,    2,    4,  622,  529,    3,    7,  547,   11,\n",
       "        138,   18,   73,  622,  529, 1163, 1901,  282, 1163,   44,    7,\n",
       "         19,   12,  192,   15,  130,    5,  349, 1901,  282,    1,  329,\n",
       "         11,   33,   24,  850,    7,   55,    6,  563,   12,   30,    1,\n",
       "        329,   31,   39,   19,   33,   24,  734,  131,   21,  230,    2,\n",
       "       1366,    4,  231,  200, 1034,    1,   31,   39,   33,   24,    5,\n",
       "       1287,    2,  521,   85,  257,   26,  153,   15,    2,  229,   48,\n",
       "          1, 6333,   33,   24,   38,    2,   13,   82,  481,    3,   26,\n",
       "         54,    2,   89,  117,    5,  122,    7,    4,  453,   33,   24,\n",
       "         32,  465,  465,    7,  326, 1034,  465,    7,   31, 2569,  465,\n",
       "          7,   27,   13,   68, 2257,   85,  257,    6, 1411,   12,  406,\n",
       "         50,   27,  301,    1,   32,   58,    2,   31,  219,    6,  137,\n",
       "         71,   12,    8,  509,   71,    1,   32,   83,    2,   34,  195,\n",
       "          4,  253,   99,    3,  120,    1,   31,    6,  273,   45,  579,\n",
       "          3,    1,   45,  338,    4,   49,  123,  437,   57,  164,  127,\n",
       "        171,    1,   32,   83,   97,  286,    2,  780,    1,   13,   82,\n",
       "         79,  418,    2,  163,    2,    3,    1,  118,   14,   58,    2,\n",
       "       1287,    6,  385,   86,  748,    1,  118,   14,   60,   61,    2,\n",
       "        530,  127,    0,    0,    0,    0,    0,    0,    0,    0,    0,\n",
       "          0,    0,    0,    0,    0,    0,    0,    0,    0,    0,    0,\n",
       "          0,    0,    0,    0,    0,    0,    0,    0,    0,    0,    0,\n",
       "          0,    0,    0,    0,    0,    0,    0,    0,    0,    0,    0,\n",
       "          0,    0,    0,    0,    0,    0,    0,    0,    0,    0,    0,\n",
       "          0,    0,    0])"
      ]
     },
     "execution_count": 30,
     "metadata": {},
     "output_type": "execute_result"
    }
   ],
   "source": [
    "padded_sequences[0]"
   ]
  },
  {
   "cell_type": "code",
   "execution_count": 31,
   "id": "91f042e8",
   "metadata": {},
   "outputs": [],
   "source": [
    "from sklearn.preprocessing import OneHotEncoder"
   ]
  },
  {
   "cell_type": "code",
   "execution_count": 32,
   "id": "52a1f665",
   "metadata": {},
   "outputs": [],
   "source": [
    "le = OneHotEncoder()"
   ]
  },
  {
   "cell_type": "code",
   "execution_count": 36,
   "id": "fe7e1fa1",
   "metadata": {},
   "outputs": [],
   "source": [
    "y = data[[\"Labels\"]]"
   ]
  },
  {
   "cell_type": "code",
   "execution_count": 37,
   "id": "689ac336",
   "metadata": {},
   "outputs": [],
   "source": [
    "y = le.fit_transform(y)"
   ]
  },
  {
   "cell_type": "code",
   "execution_count": null,
   "id": "b79b0ef6",
   "metadata": {},
   "outputs": [],
   "source": []
  }
 ],
 "metadata": {
  "kernelspec": {
   "display_name": "Python 3 (ipykernel)",
   "language": "python",
   "name": "python3"
  },
  "language_info": {
   "codemirror_mode": {
    "name": "ipython",
    "version": 3
   },
   "file_extension": ".py",
   "mimetype": "text/x-python",
   "name": "python",
   "nbconvert_exporter": "python",
   "pygments_lexer": "ipython3",
   "version": "3.11.5"
  }
 },
 "nbformat": 4,
 "nbformat_minor": 5
}
